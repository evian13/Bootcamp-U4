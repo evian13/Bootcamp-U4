{
 "cells": [
  {
   "cell_type": "markdown",
   "metadata": {},
   "source": [
    "### Drill: Unsupervised or supervised?\n",
    "\n",
    "For each of these scenarios decide if you could use supervised or unsupervised techniques, or both!\n",
    "\n",
    "1. Define the likelihood that an individual will contract a specific disease\n",
    "    \n",
    "    - Likelihood = percentage for yes/no -> Classification with supervised or classification with unsupervised (discover 2 classes only!) \n",
    "    \n",
    "2. Translate a set of images into variables for modeling\n",
    "\n",
    "    - Unsupervised b/c we don't know what classes we are going to discover.\n",
    "    \n",
    "3. An ecommerce company wants to identify power users\n",
    "\n",
    "    - We have to see what means 'Power user' --> Supervised b/c we know what to look for.\n",
    "\n",
    "4. That same company wants to see shopping patterns in users\n",
    "\n",
    "    - Unsupervised as we don't know what to look for\n",
    "\n",
    "5. You want to reduce the number of variables inputting into your random forest model\n",
    "\n",
    "    - Supervised and unsupervised"
   ]
  },
  {
   "cell_type": "code",
   "execution_count": null,
   "metadata": {},
   "outputs": [],
   "source": []
  },
  {
   "cell_type": "code",
   "execution_count": null,
   "metadata": {},
   "outputs": [],
   "source": []
  },
  {
   "cell_type": "code",
   "execution_count": null,
   "metadata": {},
   "outputs": [],
   "source": []
  },
  {
   "cell_type": "code",
   "execution_count": null,
   "metadata": {},
   "outputs": [],
   "source": []
  },
  {
   "cell_type": "code",
   "execution_count": null,
   "metadata": {},
   "outputs": [],
   "source": []
  }
 ],
 "metadata": {
  "anaconda-cloud": {},
  "kernelspec": {
   "display_name": "Python [conda env:Anaconda3]",
   "language": "python",
   "name": "conda-env-Anaconda3-py"
  },
  "language_info": {
   "codemirror_mode": {
    "name": "ipython",
    "version": 3
   },
   "file_extension": ".py",
   "mimetype": "text/x-python",
   "name": "python",
   "nbconvert_exporter": "python",
   "pygments_lexer": "ipython3",
   "version": "3.5.4"
  },
  "latex_envs": {
   "LaTeX_envs_menu_present": true,
   "autocomplete": true,
   "bibliofile": "biblio.bib",
   "cite_by": "apalike",
   "current_citInitial": 1,
   "eqLabelWithNumbers": true,
   "eqNumInitial": 1,
   "hotkeys": {
    "equation": "Ctrl-E",
    "itemize": "Ctrl-I"
   },
   "labels_anchors": false,
   "latex_user_defs": false,
   "report_style_numbering": false,
   "user_envs_cfg": false
  }
 },
 "nbformat": 4,
 "nbformat_minor": 2
}
